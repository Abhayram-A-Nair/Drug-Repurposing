{
 "cells": [
  {
   "cell_type": "markdown",
   "id": "3af09188-38a6-4930-b1a6-99a561e578b4",
   "metadata": {},
   "source": [
    "## Creates the labels that will be used for training from knowlege Graphs"
   ]
  },
  {
   "cell_type": "code",
   "execution_count": 1,
   "id": "43b913a5-ce06-42a2-ab19-fb774ec94cad",
   "metadata": {},
   "outputs": [],
   "source": [
    "import pandas as pd\n",
    "from random import randint\n",
    "import random"
   ]
  },
  {
   "cell_type": "code",
   "execution_count": 4,
   "id": "d00f305e-1ce0-48ef-a402-e422b7b5ab0a",
   "metadata": {},
   "outputs": [],
   "source": [
    "# Loading the drug-disease interaction network\n",
    "df = pd.read_csv('../data/DCh-Miner_miner-disease-chemical.tsv',sep='\\t')"
   ]
  },
  {
   "cell_type": "code",
   "execution_count": 5,
   "id": "82021a39-4a3a-4aef-b2c9-cdccb141eb9a",
   "metadata": {},
   "outputs": [],
   "source": [
    "# removing the tag from drug names\n",
    "df.iloc[:, 0] = [i[5:] for i in df.iloc[:,0]]"
   ]
  },
  {
   "cell_type": "code",
   "execution_count": 6,
   "id": "b74919ea-a208-40fb-aad1-2c3b30292aa4",
   "metadata": {},
   "outputs": [
    {
     "data": {
      "text/html": [
       "<div>\n",
       "<style scoped>\n",
       "    .dataframe tbody tr th:only-of-type {\n",
       "        vertical-align: middle;\n",
       "    }\n",
       "\n",
       "    .dataframe tbody tr th {\n",
       "        vertical-align: top;\n",
       "    }\n",
       "\n",
       "    .dataframe thead th {\n",
       "        text-align: right;\n",
       "    }\n",
       "</style>\n",
       "<table border=\"1\" class=\"dataframe\">\n",
       "  <thead>\n",
       "    <tr style=\"text-align: right;\">\n",
       "      <th></th>\n",
       "      <th># Disease(MESH)</th>\n",
       "      <th>Chemical</th>\n",
       "    </tr>\n",
       "  </thead>\n",
       "  <tbody>\n",
       "    <tr>\n",
       "      <th>0</th>\n",
       "      <td>D005923</td>\n",
       "      <td>DB00564</td>\n",
       "    </tr>\n",
       "    <tr>\n",
       "      <th>1</th>\n",
       "      <td>D009503</td>\n",
       "      <td>DB01072</td>\n",
       "    </tr>\n",
       "    <tr>\n",
       "      <th>2</th>\n",
       "      <td>D016115</td>\n",
       "      <td>DB01759</td>\n",
       "    </tr>\n",
       "    <tr>\n",
       "      <th>3</th>\n",
       "      <td>D018476</td>\n",
       "      <td>DB00451</td>\n",
       "    </tr>\n",
       "    <tr>\n",
       "      <th>4</th>\n",
       "      <td>C567059</td>\n",
       "      <td>DB00641</td>\n",
       "    </tr>\n",
       "    <tr>\n",
       "      <th>...</th>\n",
       "      <td>...</td>\n",
       "      <td>...</td>\n",
       "    </tr>\n",
       "    <tr>\n",
       "      <th>466652</th>\n",
       "      <td>C565545</td>\n",
       "      <td>DB00482</td>\n",
       "    </tr>\n",
       "    <tr>\n",
       "      <th>466653</th>\n",
       "      <td>D009164</td>\n",
       "      <td>DB00977</td>\n",
       "    </tr>\n",
       "    <tr>\n",
       "      <th>466654</th>\n",
       "      <td>D010518</td>\n",
       "      <td>DB04216</td>\n",
       "    </tr>\n",
       "    <tr>\n",
       "      <th>466655</th>\n",
       "      <td>D002653</td>\n",
       "      <td>DB02701</td>\n",
       "    </tr>\n",
       "    <tr>\n",
       "      <th>466656</th>\n",
       "      <td>D013119</td>\n",
       "      <td>DB04465</td>\n",
       "    </tr>\n",
       "  </tbody>\n",
       "</table>\n",
       "<p>466657 rows × 2 columns</p>\n",
       "</div>"
      ],
      "text/plain": [
       "       # Disease(MESH) Chemical\n",
       "0              D005923  DB00564\n",
       "1              D009503  DB01072\n",
       "2              D016115  DB01759\n",
       "3              D018476  DB00451\n",
       "4              C567059  DB00641\n",
       "...                ...      ...\n",
       "466652         C565545  DB00482\n",
       "466653         D009164  DB00977\n",
       "466654         D010518  DB04216\n",
       "466655         D002653  DB02701\n",
       "466656         D013119  DB04465\n",
       "\n",
       "[466657 rows x 2 columns]"
      ]
     },
     "execution_count": 6,
     "metadata": {},
     "output_type": "execute_result"
    }
   ],
   "source": [
    "df"
   ]
  },
  {
   "cell_type": "code",
   "execution_count": 7,
   "id": "21ec0b22-348f-4825-acf3-db86c4414136",
   "metadata": {},
   "outputs": [],
   "source": [
    "# loading the similarity matrices fro which labels are to be obtained\n",
    "drug_df = pd.read_csv('../../data/processed_drug_simmat_SNF19.csv', index_col=0)\n",
    "disease_df = pd.read_csv('../../data/processed_disease_simmat_SNF14.csv', index_col=0)\n",
    "\n",
    "drug_names = drug_df.index\n",
    "disease_names = disease_df.index"
   ]
  },
  {
   "cell_type": "code",
   "execution_count": 8,
   "id": "0a5bce8a-2891-409f-a8e6-b4cee9ba51d6",
   "metadata": {},
   "outputs": [
    {
     "name": "stdout",
     "output_type": "stream",
     "text": [
      "1663 705\n"
     ]
    }
   ],
   "source": [
    "print(len(set(df.iloc[:,1])),len(drug_names))"
   ]
  },
  {
   "cell_type": "code",
   "execution_count": 9,
   "id": "b0e5b765-373e-4037-92b7-27337ce17fd4",
   "metadata": {},
   "outputs": [
    {
     "name": "stdout",
     "output_type": "stream",
     "text": [
      "5536 436\n"
     ]
    }
   ],
   "source": [
    "print(len(set(df.iloc[:,0])),len(disease_names))"
   ]
  },
  {
   "cell_type": "code",
   "execution_count": 10,
   "id": "295e7d6a-9103-487c-ba5c-13672dbb132a",
   "metadata": {},
   "outputs": [
    {
     "data": {
      "text/html": [
       "<div>\n",
       "<style scoped>\n",
       "    .dataframe tbody tr th:only-of-type {\n",
       "        vertical-align: middle;\n",
       "    }\n",
       "\n",
       "    .dataframe tbody tr th {\n",
       "        vertical-align: top;\n",
       "    }\n",
       "\n",
       "    .dataframe thead th {\n",
       "        text-align: right;\n",
       "    }\n",
       "</style>\n",
       "<table border=\"1\" class=\"dataframe\">\n",
       "  <thead>\n",
       "    <tr style=\"text-align: right;\">\n",
       "      <th></th>\n",
       "      <th># Disease(MESH)</th>\n",
       "      <th>Chemical</th>\n",
       "    </tr>\n",
       "  </thead>\n",
       "  <tbody>\n",
       "    <tr>\n",
       "      <th>8</th>\n",
       "      <td>D001249</td>\n",
       "      <td>DB00814</td>\n",
       "    </tr>\n",
       "    <tr>\n",
       "      <th>11</th>\n",
       "      <td>D009325</td>\n",
       "      <td>DB00851</td>\n",
       "    </tr>\n",
       "    <tr>\n",
       "      <th>12</th>\n",
       "      <td>D001943</td>\n",
       "      <td>DB00300</td>\n",
       "    </tr>\n",
       "    <tr>\n",
       "      <th>16</th>\n",
       "      <td>D001281</td>\n",
       "      <td>DB01394</td>\n",
       "    </tr>\n",
       "    <tr>\n",
       "      <th>34</th>\n",
       "      <td>D007634</td>\n",
       "      <td>DB00641</td>\n",
       "    </tr>\n",
       "    <tr>\n",
       "      <th>...</th>\n",
       "      <td>...</td>\n",
       "      <td>...</td>\n",
       "    </tr>\n",
       "    <tr>\n",
       "      <th>466608</th>\n",
       "      <td>D001930</td>\n",
       "      <td>DB00627</td>\n",
       "    </tr>\n",
       "    <tr>\n",
       "      <th>466618</th>\n",
       "      <td>D006073</td>\n",
       "      <td>DB00747</td>\n",
       "    </tr>\n",
       "    <tr>\n",
       "      <th>466629</th>\n",
       "      <td>D004827</td>\n",
       "      <td>DB00849</td>\n",
       "    </tr>\n",
       "    <tr>\n",
       "      <th>466634</th>\n",
       "      <td>D015212</td>\n",
       "      <td>DB00669</td>\n",
       "    </tr>\n",
       "    <tr>\n",
       "      <th>466646</th>\n",
       "      <td>D017180</td>\n",
       "      <td>DB00835</td>\n",
       "    </tr>\n",
       "  </tbody>\n",
       "</table>\n",
       "<p>47981 rows × 2 columns</p>\n",
       "</div>"
      ],
      "text/plain": [
       "       # Disease(MESH) Chemical\n",
       "8              D001249  DB00814\n",
       "11             D009325  DB00851\n",
       "12             D001943  DB00300\n",
       "16             D001281  DB01394\n",
       "34             D007634  DB00641\n",
       "...                ...      ...\n",
       "466608         D001930  DB00627\n",
       "466618         D006073  DB00747\n",
       "466629         D004827  DB00849\n",
       "466634         D015212  DB00669\n",
       "466646         D017180  DB00835\n",
       "\n",
       "[47981 rows x 2 columns]"
      ]
     },
     "execution_count": 10,
     "metadata": {},
     "output_type": "execute_result"
    }
   ],
   "source": [
    "# Extracting the edges containing wanted drugs and diseases\n",
    "df = df[df['Chemical'].isin(drug_names)]\n",
    "df = df[df['# Disease(MESH)'].isin(disease_names)]\n",
    "df"
   ]
  },
  {
   "cell_type": "code",
   "execution_count": 11,
   "id": "75f5a4b3-e7d4-4bcc-99f7-85a501e9a650",
   "metadata": {
    "tags": []
   },
   "outputs": [
    {
     "data": {
      "text/plain": [
       "47981"
      ]
     },
     "execution_count": 11,
     "metadata": {},
     "output_type": "execute_result"
    }
   ],
   "source": [
    "interaction_set = set([(i['# Disease(MESH)'],i['Chemical']) for j,i in df.iterrows()])\n",
    "len(interaction_set)"
   ]
  },
  {
   "cell_type": "code",
   "execution_count": 16,
   "id": "f09af0eb-ec0c-4f53-bad5-ad56c60a1b79",
   "metadata": {},
   "outputs": [],
   "source": [
    "non_interaction_set = set()\n",
    "imbalance = 2\n",
    "while len(non_interaction_set) != 2*len(interaction_set):\n",
    "    random_integer = randint(0, len(drug_names)-1)\n",
    "    drug = (drug_names[random_integer])\n",
    "    random_integer = randint(0, len(disease_names)-1)\n",
    "    disease = (disease_names[random_integer])\n",
    "    if (drug,disease) not in interaction_set:\n",
    "        non_interaction_set.add((disease,drug))"
   ]
  },
  {
   "cell_type": "code",
   "execution_count": 17,
   "id": "28fc7317-df67-484f-8051-8eb8e034ffb5",
   "metadata": {},
   "outputs": [
    {
     "data": {
      "text/html": [
       "<div>\n",
       "<style scoped>\n",
       "    .dataframe tbody tr th:only-of-type {\n",
       "        vertical-align: middle;\n",
       "    }\n",
       "\n",
       "    .dataframe tbody tr th {\n",
       "        vertical-align: top;\n",
       "    }\n",
       "\n",
       "    .dataframe thead th {\n",
       "        text-align: right;\n",
       "    }\n",
       "</style>\n",
       "<table border=\"1\" class=\"dataframe\">\n",
       "  <thead>\n",
       "    <tr style=\"text-align: right;\">\n",
       "      <th></th>\n",
       "      <th>0</th>\n",
       "      <th>1</th>\n",
       "      <th>2</th>\n",
       "    </tr>\n",
       "  </thead>\n",
       "  <tbody>\n",
       "    <tr>\n",
       "      <th>0</th>\n",
       "      <td>D014123</td>\n",
       "      <td>DB00601</td>\n",
       "      <td>0</td>\n",
       "    </tr>\n",
       "    <tr>\n",
       "      <th>1</th>\n",
       "      <td>D017118</td>\n",
       "      <td>DB00796</td>\n",
       "      <td>0</td>\n",
       "    </tr>\n",
       "    <tr>\n",
       "      <th>2</th>\n",
       "      <td>D011628</td>\n",
       "      <td>DB01599</td>\n",
       "      <td>0</td>\n",
       "    </tr>\n",
       "    <tr>\n",
       "      <th>3</th>\n",
       "      <td>D029481</td>\n",
       "      <td>DB00437</td>\n",
       "      <td>0</td>\n",
       "    </tr>\n",
       "    <tr>\n",
       "      <th>4</th>\n",
       "      <td>D004415</td>\n",
       "      <td>DB00969</td>\n",
       "      <td>0</td>\n",
       "    </tr>\n",
       "    <tr>\n",
       "      <th>...</th>\n",
       "      <td>...</td>\n",
       "      <td>...</td>\n",
       "      <td>...</td>\n",
       "    </tr>\n",
       "    <tr>\n",
       "      <th>47976</th>\n",
       "      <td>D009404</td>\n",
       "      <td>DB01393</td>\n",
       "      <td>1</td>\n",
       "    </tr>\n",
       "    <tr>\n",
       "      <th>47977</th>\n",
       "      <td>D003877</td>\n",
       "      <td>DB00396</td>\n",
       "      <td>1</td>\n",
       "    </tr>\n",
       "    <tr>\n",
       "      <th>47978</th>\n",
       "      <td>D010001</td>\n",
       "      <td>DB01174</td>\n",
       "      <td>1</td>\n",
       "    </tr>\n",
       "    <tr>\n",
       "      <th>47979</th>\n",
       "      <td>D020734</td>\n",
       "      <td>DB00325</td>\n",
       "      <td>1</td>\n",
       "    </tr>\n",
       "    <tr>\n",
       "      <th>47980</th>\n",
       "      <td>D006949</td>\n",
       "      <td>DB01580</td>\n",
       "      <td>1</td>\n",
       "    </tr>\n",
       "  </tbody>\n",
       "</table>\n",
       "<p>143943 rows × 3 columns</p>\n",
       "</div>"
      ],
      "text/plain": [
       "             0        1  2\n",
       "0      D014123  DB00601  0\n",
       "1      D017118  DB00796  0\n",
       "2      D011628  DB01599  0\n",
       "3      D029481  DB00437  0\n",
       "4      D004415  DB00969  0\n",
       "...        ...      ... ..\n",
       "47976  D009404  DB01393  1\n",
       "47977  D003877  DB00396  1\n",
       "47978  D010001  DB01174  1\n",
       "47979  D020734  DB00325  1\n",
       "47980  D006949  DB01580  1\n",
       "\n",
       "[143943 rows x 3 columns]"
      ]
     },
     "execution_count": 17,
     "metadata": {},
     "output_type": "execute_result"
    }
   ],
   "source": [
    "non_interaction_list = list(non_interaction_set)\n",
    "interaction_list = list(interaction_set)\n",
    "\n",
    "non_interaction_df = pd.DataFrame(non_interaction_list) \n",
    "non_interaction_df[2] = [0]*len(non_interaction_df)\n",
    "\n",
    "interaction_df = pd.DataFrame(interaction_list) \n",
    "interaction_df[2] = [1]*len(interaction_df)\n",
    "\n",
    "df_concatenated = pd.concat([non_interaction_df, interaction_df], axis=0)\n",
    "df_concatenated"
   ]
  },
  {
   "cell_type": "code",
   "execution_count": 18,
   "id": "8d9e3d07-d5ee-4734-88f2-fdaf8e04c1c8",
   "metadata": {},
   "outputs": [],
   "source": [
    "df_concatenated.to_csv('../../data/labels_SNFd14_SNFd19_im2.csv')"
   ]
  },
  {
   "cell_type": "code",
   "execution_count": null,
   "id": "8db697ce-31ca-41f0-8f24-c0f78d71d999",
   "metadata": {},
   "outputs": [],
   "source": [
    "# Code to get subsets of labels.."
   ]
  },
  {
   "cell_type": "code",
   "execution_count": 14,
   "id": "dd6e8d2a-d4b7-41fe-aa20-1d49247a9479",
   "metadata": {},
   "outputs": [],
   "source": [
    "interaction_count = 5000\n",
    "\n",
    "interaction_list = list(interaction_set)\n",
    "random.seed(42)\n",
    "random.shuffle(interaction_list)\n",
    "selected_interactions = interaction_list[:interaction_count]"
   ]
  },
  {
   "cell_type": "code",
   "execution_count": 15,
   "id": "9db660e0-286a-4f07-89e6-5db26ce885e5",
   "metadata": {},
   "outputs": [],
   "source": [
    "non_interaction_list = list(non_interaction_set)\n",
    "random.seed(42)\n",
    "random.shuffle(non_interaction_list)\n",
    "selected_non_interactions = non_interaction_list[:interaction_count]"
   ]
  },
  {
   "cell_type": "code",
   "execution_count": 16,
   "id": "b7c9a2db-811d-4ae6-aeef-1217f02fae44",
   "metadata": {},
   "outputs": [
    {
     "data": {
      "text/html": [
       "<div>\n",
       "<style scoped>\n",
       "    .dataframe tbody tr th:only-of-type {\n",
       "        vertical-align: middle;\n",
       "    }\n",
       "\n",
       "    .dataframe tbody tr th {\n",
       "        vertical-align: top;\n",
       "    }\n",
       "\n",
       "    .dataframe thead th {\n",
       "        text-align: right;\n",
       "    }\n",
       "</style>\n",
       "<table border=\"1\" class=\"dataframe\">\n",
       "  <thead>\n",
       "    <tr style=\"text-align: right;\">\n",
       "      <th></th>\n",
       "      <th>0</th>\n",
       "      <th>1</th>\n",
       "      <th>2</th>\n",
       "    </tr>\n",
       "  </thead>\n",
       "  <tbody>\n",
       "    <tr>\n",
       "      <th>0</th>\n",
       "      <td>D000686</td>\n",
       "      <td>DB00472</td>\n",
       "      <td>0</td>\n",
       "    </tr>\n",
       "    <tr>\n",
       "      <th>1</th>\n",
       "      <td>D001171</td>\n",
       "      <td>DB00706</td>\n",
       "      <td>0</td>\n",
       "    </tr>\n",
       "    <tr>\n",
       "      <th>2</th>\n",
       "      <td>D007500</td>\n",
       "      <td>DB00307</td>\n",
       "      <td>0</td>\n",
       "    </tr>\n",
       "    <tr>\n",
       "      <th>3</th>\n",
       "      <td>D020820</td>\n",
       "      <td>DB00637</td>\n",
       "      <td>0</td>\n",
       "    </tr>\n",
       "    <tr>\n",
       "      <th>4</th>\n",
       "      <td>D002389</td>\n",
       "      <td>DB01577</td>\n",
       "      <td>0</td>\n",
       "    </tr>\n",
       "    <tr>\n",
       "      <th>...</th>\n",
       "      <td>...</td>\n",
       "      <td>...</td>\n",
       "      <td>...</td>\n",
       "    </tr>\n",
       "    <tr>\n",
       "      <th>4995</th>\n",
       "      <td>D013345</td>\n",
       "      <td>DB00853</td>\n",
       "      <td>1</td>\n",
       "    </tr>\n",
       "    <tr>\n",
       "      <th>4996</th>\n",
       "      <td>D001321</td>\n",
       "      <td>DB00571</td>\n",
       "      <td>1</td>\n",
       "    </tr>\n",
       "    <tr>\n",
       "      <th>4997</th>\n",
       "      <td>D002277</td>\n",
       "      <td>DB01242</td>\n",
       "      <td>1</td>\n",
       "    </tr>\n",
       "    <tr>\n",
       "      <th>4998</th>\n",
       "      <td>D012208</td>\n",
       "      <td>DB00695</td>\n",
       "      <td>1</td>\n",
       "    </tr>\n",
       "    <tr>\n",
       "      <th>4999</th>\n",
       "      <td>D013924</td>\n",
       "      <td>DB00537</td>\n",
       "      <td>1</td>\n",
       "    </tr>\n",
       "  </tbody>\n",
       "</table>\n",
       "<p>10000 rows × 3 columns</p>\n",
       "</div>"
      ],
      "text/plain": [
       "            0        1  2\n",
       "0     D000686  DB00472  0\n",
       "1     D001171  DB00706  0\n",
       "2     D007500  DB00307  0\n",
       "3     D020820  DB00637  0\n",
       "4     D002389  DB01577  0\n",
       "...       ...      ... ..\n",
       "4995  D013345  DB00853  1\n",
       "4996  D001321  DB00571  1\n",
       "4997  D002277  DB01242  1\n",
       "4998  D012208  DB00695  1\n",
       "4999  D013924  DB00537  1\n",
       "\n",
       "[10000 rows x 3 columns]"
      ]
     },
     "execution_count": 16,
     "metadata": {},
     "output_type": "execute_result"
    }
   ],
   "source": [
    "non_interaction_list = selected_non_interactions\n",
    "interaction_list = selected_interactions\n",
    "\n",
    "non_interaction_df = pd.DataFrame(non_interaction_list) \n",
    "non_interaction_df[2] = [0]*len(non_interaction_df)\n",
    "\n",
    "interaction_df = pd.DataFrame(interaction_list) \n",
    "interaction_df[2] = [1]*len(interaction_df)\n",
    "\n",
    "df_concatenated = pd.concat([non_interaction_df, interaction_df], axis=0)\n",
    "df_concatenated"
   ]
  },
  {
   "cell_type": "code",
   "execution_count": 17,
   "id": "6f1b5fd3-548c-4c09-8a49-6c841101f8d8",
   "metadata": {},
   "outputs": [],
   "source": [
    "df_concatenated.to_csv('labelssmall'+str(interaction_count)+'.csv')"
   ]
  },
  {
   "cell_type": "code",
   "execution_count": null,
   "id": "e7b104ed-6cc9-4af1-979a-3c78cd9a5732",
   "metadata": {},
   "outputs": [],
   "source": []
  },
  {
   "cell_type": "code",
   "execution_count": null,
   "id": "51a1ce8c-7255-4408-8974-11e4ddb09a51",
   "metadata": {},
   "outputs": [],
   "source": []
  }
 ],
 "metadata": {
  "kernelspec": {
   "display_name": "Python 3 (ipykernel)",
   "language": "python",
   "name": "python3"
  },
  "language_info": {
   "codemirror_mode": {
    "name": "ipython",
    "version": 3
   },
   "file_extension": ".py",
   "mimetype": "text/x-python",
   "name": "python",
   "nbconvert_exporter": "python",
   "pygments_lexer": "ipython3",
   "version": "3.9.13"
  }
 },
 "nbformat": 4,
 "nbformat_minor": 5
}
