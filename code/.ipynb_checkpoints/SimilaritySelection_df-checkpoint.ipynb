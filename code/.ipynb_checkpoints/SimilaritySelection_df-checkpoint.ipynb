{
 "cells": [
  {
   "cell_type": "code",
   "execution_count": 16,
   "id": "a4c6e260-c548-43fa-9f3f-5a61b97816e1",
   "metadata": {},
   "outputs": [],
   "source": [
    "import numpy as np\n",
    "from  snf import compute\n",
    "import glob\n",
    "import os\n",
    "import pandas as pd\n",
    "def entropy(similarity_matrix):\n",
    "    # Normalize the similarity matrix\n",
    "    norm_matrix = similarity_matrix / similarity_matrix.sum()\n",
    "    \n",
    "    # Compute the entropy\n",
    "    p = norm_matrix.flatten()\n",
    "    entropy = -np.sum(p[p!=0] * np.log2(p[p!=0]))\n",
    "    return entropy"
   ]
  },
  {
   "cell_type": "code",
   "execution_count": 17,
   "id": "9963c078-c5d6-47b4-9d0e-e1eb5ffe564a",
   "metadata": {},
   "outputs": [],
   "source": [
    "drug_folder = \"./disease_disease_matrix/\"\n",
    "drug_file_paths = glob.glob(os.path.join(drug_folder, '*'))"
   ]
  },
  {
   "cell_type": "code",
   "execution_count": 18,
   "id": "24f260b0-a162-4509-825d-e472f63dc222",
   "metadata": {
    "tags": []
   },
   "outputs": [],
   "source": [
    "drug_drug_sim_matrices = [] \n",
    "for i in drug_file_paths:\n",
    "    data = pd.read_csv(i, index_col=0)\n",
    "    drug_drug_sim_matrices.append(data.values)"
   ]
  },
  {
   "cell_type": "code",
   "execution_count": 19,
   "id": "7e9081b6-1622-4c53-a763-f51d7a34201f",
   "metadata": {},
   "outputs": [],
   "source": [
    "# drug_drug = np.load(\"drug_drug_similarity_matrices.npz\")\n",
    "# drug_drug_sim_matrices = []\n",
    "# for arrname in drug_drug:\n",
    "#     drug_drug_sim_matrices.append(drug_drug[arrname])"
   ]
  },
  {
   "cell_type": "code",
   "execution_count": 20,
   "id": "a813ef12-21cd-4645-91eb-2cd7b4158de0",
   "metadata": {},
   "outputs": [],
   "source": [
    "# entropy(drug_drug_sim_matrices[0])"
   ]
  },
  {
   "cell_type": "code",
   "execution_count": 21,
   "id": "7d9374b1-8944-45c7-a609-114fd4623d49",
   "metadata": {},
   "outputs": [],
   "source": [
    "matrix_entropies = []\n",
    "for i in drug_drug_sim_matrices:\n",
    "    matrix_entropies.append(entropy(i))"
   ]
  },
  {
   "cell_type": "code",
   "execution_count": 22,
   "id": "cc346993-c1ac-4a74-b5b0-66df349a6ab4",
   "metadata": {},
   "outputs": [
    {
     "data": {
      "text/plain": [
       "[16.518453910472722,\n",
       " 13.164952777819376,\n",
       " 11.315281095275786,\n",
       " 16.127524461204395,\n",
       " 7.905171226753891,\n",
       " 12.920055432231772,\n",
       " 8.126967476364328,\n",
       " 12.437789061655984,\n",
       " 16.127524461204395,\n",
       " 16.371453175055212,\n",
       " 16.46592372988005,\n",
       " 8.52151021020253,\n",
       " 13.350057989895898,\n",
       " 7.905171226753891]"
      ]
     },
     "execution_count": 22,
     "metadata": {},
     "output_type": "execute_result"
    }
   ],
   "source": [
    "matrix_entropies"
   ]
  },
  {
   "cell_type": "code",
   "execution_count": 24,
   "id": "57ae7b2c-efa2-41c2-8c42-38996aaa9ff2",
   "metadata": {},
   "outputs": [
    {
     "name": "stderr",
     "output_type": "stream",
     "text": [
      "/home2/aswin/miniconda3/envs/pyg/lib/python3.9/site-packages/snf/compute.py:401: RuntimeWarning: invalid value encountered in divide\n",
      "  mat = mat / np.nansum(mat, axis=1, keepdims=True)\n"
     ]
    },
    {
     "data": {
      "text/plain": [
       "9"
      ]
     },
     "execution_count": 24,
     "metadata": {},
     "output_type": "execute_result"
    }
   ],
   "source": [
    "drug_similarity_thresh = 14\n",
    "chosen_drug_sim_matrix = []\n",
    "for i in drug_drug_sim_matrices:\n",
    "    if entropy(i) < drug_similarity_thresh:\n",
    "        chosen_drug_sim_matrix.append(i)\n",
    "        \n",
    "drug_snf = compute.snf(chosen_drug_sim_matrix)\n",
    "np.save(\"disease_snf\"+str(drug_similarity_thresh)+\".npy\", drug_snf)\n",
    "drug_sim_chosen = pd.DataFrame(drug_snf,index=data.index, columns=data.columns)\n",
    "drug_sim_chosen.to_csv(drug_folder + \"disease_snf\"+str(drug_similarity_thresh)+\".csv\")\n",
    "len(chosen_drug_sim_matrix)"
   ]
  },
  {
   "cell_type": "code",
   "execution_count": null,
   "id": "ef2027af-0c23-450e-aea2-26216f08cb5a",
   "metadata": {},
   "outputs": [],
   "source": []
  },
  {
   "cell_type": "code",
   "execution_count": 7,
   "id": "bd1a4ab3-ebe0-4dba-a6ff-7eddbc54e3a6",
   "metadata": {},
   "outputs": [
    {
     "data": {
      "text/plain": [
       "[7.905171226753891,\n",
       " 13.164952777819376,\n",
       " 8.52151021020253,\n",
       " 13.350057989895902,\n",
       " 16.518453910472726,\n",
       " 8.126967476364332,\n",
       " 16.127524461204395,\n",
       " 16.127524461204395,\n",
       " 11.31528109527579,\n",
       " 16.465923729880057,\n",
       " 7.905171226753891,\n",
       " 12.437789061655982,\n",
       " 16.37145317505521,\n",
       " 12.920055432231765]"
      ]
     },
     "execution_count": 7,
     "metadata": {},
     "output_type": "execute_result"
    }
   ],
   "source": [
    "drug_drug = np.load(\"disease_disease_similarity_matrices.npz\")\n",
    "drug_drug_sim_matrices = []\n",
    "for arrname in drug_drug:\n",
    "    drug_drug_sim_matrices.append(drug_drug[arrname])\n",
    "\n",
    "matrix_entropies = []\n",
    "for i in drug_drug_sim_matrices:\n",
    "    matrix_entropies.append(entropy(i))\n",
    "matrix_entropies"
   ]
  },
  {
   "cell_type": "code",
   "execution_count": 8,
   "id": "481d29f4-178d-4146-8251-376882c540d1",
   "metadata": {},
   "outputs": [
    {
     "name": "stderr",
     "output_type": "stream",
     "text": [
      "/home2/aswin/miniconda3/envs/pyg/lib/python3.9/site-packages/snf/compute.py:401: RuntimeWarning: invalid value encountered in divide\n",
      "  mat = mat / np.nansum(mat, axis=1, keepdims=True)\n"
     ]
    },
    {
     "data": {
      "text/plain": [
       "9"
      ]
     },
     "execution_count": 8,
     "metadata": {},
     "output_type": "execute_result"
    }
   ],
   "source": [
    "disease_similarity_thresh = 14\n",
    "chosen_disease_sim_matrix = []\n",
    "for i in drug_drug_sim_matrices:\n",
    "    if entropy(i) < disease_similarity_thresh:\n",
    "        chosen_disease_sim_matrix.append(i)\n",
    "disease_snf = compute.snf(chosen_disease_sim_matrix)\n",
    "np.save(\"disease_snf\"+str(disease_similarity_thresh)+\".npy\", disease_snf)\n",
    "len(chosen_disease_sim_matrix)"
   ]
  },
  {
   "cell_type": "code",
   "execution_count": null,
   "id": "171d9bf6-8507-42b8-816a-2e7f417264a0",
   "metadata": {},
   "outputs": [],
   "source": []
  }
 ],
 "metadata": {
  "kernelspec": {
   "display_name": "Python 3 (ipykernel)",
   "language": "python",
   "name": "python3"
  },
  "language_info": {
   "codemirror_mode": {
    "name": "ipython",
    "version": 3
   },
   "file_extension": ".py",
   "mimetype": "text/x-python",
   "name": "python",
   "nbconvert_exporter": "python",
   "pygments_lexer": "ipython3",
   "version": "3.9.13"
  }
 },
 "nbformat": 4,
 "nbformat_minor": 5
}
