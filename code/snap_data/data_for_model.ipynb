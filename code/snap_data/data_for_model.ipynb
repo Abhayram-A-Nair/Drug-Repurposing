{
 "cells": [
  {
   "cell_type": "code",
   "execution_count": 2,
   "id": "2e4a3d91-a555-4065-842d-9d6150c2e419",
   "metadata": {},
   "outputs": [],
   "source": [
    "import pandas as pd"
   ]
  },
  {
   "cell_type": "code",
   "execution_count": 3,
   "id": "20cb08a7-5bbd-4117-a411-60ca8be24ce5",
   "metadata": {},
   "outputs": [],
   "source": [
    "df = pd.read_csv('HumanNet-PI.tsv', sep='\\t')\n",
    "network = []\n",
    "for i in range(len(df)):\n",
    "    network.append(df.index[i])\n",
    "# print(network)\n",
    "net = pd.DataFrame(network)"
   ]
  },
  {
   "cell_type": "code",
   "execution_count": 4,
   "id": "33f2881b-b426-4093-965d-23a48e165904",
   "metadata": {},
   "outputs": [],
   "source": [
    "import networkx as nx\n",
    "\n",
    "G = nx.from_pandas_edgelist(net, source=0, target=1, create_using=nx.Graph())\n",
    "valid_nodes = list(G.nodes)\n",
    "\n",
    "def calculate_network_proximity1(G, node1, node2, k ):\n",
    "    try:\n",
    "        shortest_path = nx.shortest_path_length(G, source=node1, target=node2)\n",
    "        network_proximity = 1 / shortest_path\n",
    "        return network_proximity\n",
    "    except:\n",
    "        return 0\n",
    "    \n",
    "def calculate_network_proximity2(G, node1, node2 , k):\n",
    "    try:\n",
    "        shortest_path = nx.approximate_current_flow_betweenness(G, [(node1, node2)], k=k)\n",
    "        network_proximity = 1 / shortest_path\n",
    "        return network_proximity\n",
    "    except:\n",
    "        return 0"
   ]
  },
  {
   "cell_type": "code",
   "execution_count": 5,
   "id": "811a3062-b459-4f9f-bccf-0333f12a59ef",
   "metadata": {},
   "outputs": [],
   "source": [
    "drug_df = pd.read_csv('processed_drug_simmat.csv', index_col=0)\n",
    "disease_df = pd.read_csv('processed_disease_simmat.csv', index_col=0)"
   ]
  },
  {
   "cell_type": "code",
   "execution_count": 6,
   "id": "29212b8b-4936-4654-98b9-6935f4fd2ab1",
   "metadata": {},
   "outputs": [],
   "source": [
    "import json\n",
    "\n",
    "with open('gene_dict_drug.json', 'r') as f:\n",
    "    gene_dict_drug = json.load(f)\n",
    "with open('gene_dict_disease.json', 'r') as f:\n",
    "    gene_dict_disease = json.load(f)"
   ]
  },
  {
   "cell_type": "code",
   "execution_count": 7,
   "id": "9dba53d8-712b-4fed-8360-5e779d9482fc",
   "metadata": {},
   "outputs": [],
   "source": [
    "drug_names = drug_df.index\n",
    "disease_names = disease_df.index"
   ]
  },
  {
   "cell_type": "code",
   "execution_count": 8,
   "id": "8eebb0ab-567a-4dfd-9885-1efc73e6035a",
   "metadata": {},
   "outputs": [],
   "source": [
    "new_gene_dict_drug = {}\n",
    "for key, value in gene_dict_drug.items():\n",
    "    if(key in drug_names):\n",
    "        value_int_list = [int(x) for x in value]\n",
    "        intersection = list(set(value_int_list).intersection(valid_nodes))\n",
    "        new_gene_dict_drug[key] = intersection"
   ]
  },
  {
   "cell_type": "code",
   "execution_count": 9,
   "id": "cd5ec142-01a2-4042-b780-fe7c2d704f64",
   "metadata": {},
   "outputs": [],
   "source": [
    "new_gene_dict_disease = {}\n",
    "for key, value in gene_dict_disease.items():\n",
    "    if(key in disease_names):\n",
    "        value_int_list = [int(x) for x in value]\n",
    "        intersection = list(set(value_int_list).intersection(valid_nodes))\n",
    "        new_gene_dict_disease[key] = intersection"
   ]
  },
  {
   "cell_type": "code",
   "execution_count": 10,
   "id": "79418a2a-ce84-429b-80ee-97cd5363705d",
   "metadata": {},
   "outputs": [],
   "source": [
    "from tqdm import tqdm"
   ]
  },
  {
   "cell_type": "code",
   "execution_count": 15,
   "id": "c4efb9c0-1cf6-4e82-84cd-54e2abfdfc58",
   "metadata": {},
   "outputs": [],
   "source": [
    "labels = pd.read_csv('labelssmall.csv', index_col=0)"
   ]
  },
  {
   "cell_type": "code",
   "execution_count": 16,
   "id": "9ef2d46d-592f-4d61-9699-fe546d39fc18",
   "metadata": {},
   "outputs": [
    {
     "data": {
      "text/html": [
       "<div>\n",
       "<style scoped>\n",
       "    .dataframe tbody tr th:only-of-type {\n",
       "        vertical-align: middle;\n",
       "    }\n",
       "\n",
       "    .dataframe tbody tr th {\n",
       "        vertical-align: top;\n",
       "    }\n",
       "\n",
       "    .dataframe thead th {\n",
       "        text-align: right;\n",
       "    }\n",
       "</style>\n",
       "<table border=\"1\" class=\"dataframe\">\n",
       "  <thead>\n",
       "    <tr style=\"text-align: right;\">\n",
       "      <th></th>\n",
       "      <th>0</th>\n",
       "      <th>1</th>\n",
       "      <th>2</th>\n",
       "    </tr>\n",
       "  </thead>\n",
       "  <tbody>\n",
       "    <tr>\n",
       "      <th>0</th>\n",
       "      <td>D013920</td>\n",
       "      <td>DB00396</td>\n",
       "      <td>0</td>\n",
       "    </tr>\n",
       "    <tr>\n",
       "      <th>1</th>\n",
       "      <td>D017449</td>\n",
       "      <td>DB00401</td>\n",
       "      <td>0</td>\n",
       "    </tr>\n",
       "    <tr>\n",
       "      <th>2</th>\n",
       "      <td>D013285</td>\n",
       "      <td>DB01399</td>\n",
       "      <td>0</td>\n",
       "    </tr>\n",
       "    <tr>\n",
       "      <th>3</th>\n",
       "      <td>D009157</td>\n",
       "      <td>DB00178</td>\n",
       "      <td>0</td>\n",
       "    </tr>\n",
       "    <tr>\n",
       "      <th>4</th>\n",
       "      <td>D003324</td>\n",
       "      <td>DB00876</td>\n",
       "      <td>0</td>\n",
       "    </tr>\n",
       "    <tr>\n",
       "      <th>...</th>\n",
       "      <td>...</td>\n",
       "      <td>...</td>\n",
       "      <td>...</td>\n",
       "    </tr>\n",
       "    <tr>\n",
       "      <th>4995</th>\n",
       "      <td>D019970</td>\n",
       "      <td>DB00714</td>\n",
       "      <td>1</td>\n",
       "    </tr>\n",
       "    <tr>\n",
       "      <th>4996</th>\n",
       "      <td>D058186</td>\n",
       "      <td>DB00364</td>\n",
       "      <td>1</td>\n",
       "    </tr>\n",
       "    <tr>\n",
       "      <th>4997</th>\n",
       "      <td>D009101</td>\n",
       "      <td>DB01069</td>\n",
       "      <td>1</td>\n",
       "    </tr>\n",
       "    <tr>\n",
       "      <th>4998</th>\n",
       "      <td>D006937</td>\n",
       "      <td>DB00722</td>\n",
       "      <td>1</td>\n",
       "    </tr>\n",
       "    <tr>\n",
       "      <th>4999</th>\n",
       "      <td>D011471</td>\n",
       "      <td>DB00443</td>\n",
       "      <td>1</td>\n",
       "    </tr>\n",
       "  </tbody>\n",
       "</table>\n",
       "<p>10000 rows × 3 columns</p>\n",
       "</div>"
      ],
      "text/plain": [
       "            0        1  2\n",
       "0     D013920  DB00396  0\n",
       "1     D017449  DB00401  0\n",
       "2     D013285  DB01399  0\n",
       "3     D009157  DB00178  0\n",
       "4     D003324  DB00876  0\n",
       "...       ...      ... ..\n",
       "4995  D019970  DB00714  1\n",
       "4996  D058186  DB00364  1\n",
       "4997  D009101  DB01069  1\n",
       "4998  D006937  DB00722  1\n",
       "4999  D011471  DB00443  1\n",
       "\n",
       "[10000 rows x 3 columns]"
      ]
     },
     "execution_count": 16,
     "metadata": {},
     "output_type": "execute_result"
    }
   ],
   "source": [
    "labels"
   ]
  },
  {
   "cell_type": "code",
   "execution_count": null,
   "id": "336b154c-6ca5-4f93-972a-9843a706c848",
   "metadata": {},
   "outputs": [
    {
     "name": "stderr",
     "output_type": "stream",
     "text": [
      "6282it [05:32,  6.54it/s]"
     ]
    }
   ],
   "source": [
    "proximities = []\n",
    "for index, row in tqdm(labels.iterrows()):\n",
    "    drug_genes = new_gene_dict_drug[row[1]]\n",
    "    disease_genes = new_gene_dict_disease[row[0]]\n",
    "\n",
    "    network_proximities = []\n",
    "    for drug_gene in drug_genes:\n",
    "        for disease_gene in disease_genes:\n",
    "            network_proximities.append(calculate_network_proximity2(G, drug_gene, disease_gene,20))\n",
    "\n",
    "\n",
    "    mean = sum(network_proximities) / len(network_proximities)\n",
    "    median = sorted(network_proximities)[len(network_proximities) // 2]\n",
    "    minimum = min(network_proximities)\n",
    "    maximum = max(network_proximities)                                   \n",
    "    proximities.append((mean, median, minimum, maximum))   "
   ]
  },
  {
   "cell_type": "code",
   "execution_count": null,
   "id": "5117f01f-27ac-4e0b-a15a-9a4ecdeda55c",
   "metadata": {},
   "outputs": [],
   "source": [
    "import numpy as np\n",
    "dd_list = []\n",
    "label_list = []\n",
    "dds_list = []\n",
    "for index, row in labels.iterrows():\n",
    "    drug_name = row[1]\n",
    "    disease_name = row[0]\n",
    "    label = row[2]\n",
    "    drug_vector = list(drug_df.loc[drug_name,:].values)\n",
    "    disease_vector = list(disease_df.loc[disease_name,:].values)\n",
    "    proximity_vector = list(proximities[index])\n",
    "    \n",
    "    label_list.append(label)\n",
    "    dd_vector = drug_vector + disease_vector + [label]\n",
    "    dds_vector = dd_vector + proximity_vector + [label]\n",
    "    dd_vector = np.array(dd_vector)\n",
    "    dds_vector = np.array(dds_vector)\n",
    "    dd_list.append(dd_vector)\n",
    "    dds_list.append(dds_vector)\n",
    "    "
   ]
  },
  {
   "cell_type": "code",
   "execution_count": null,
   "id": "3045146e-dc7e-4947-bf9e-838007a753d8",
   "metadata": {},
   "outputs": [],
   "source": [
    "import numpy as np\n",
    "\n",
    "# Save the list of arrays\n",
    "np.save('dds10000_20.npy', dds_list)\n",
    "np.save('dd10000_20.npy', dd_list)"
   ]
  },
  {
   "cell_type": "code",
   "execution_count": null,
   "id": "9e90a9cb-e2f3-4504-9bc8-f747086295a9",
   "metadata": {},
   "outputs": [],
   "source": [
    "# Load the list of arrays\n",
    "loaded_arr_list = np.load('dds10000.npy', allow_pickle=True)\n",
    "\n",
    "# Print the loaded list of arrays\n",
    "print(len(loaded_arr_list))"
   ]
  },
  {
   "cell_type": "code",
   "execution_count": null,
   "id": "d36ab75a-89eb-45e1-9112-b55918854ddd",
   "metadata": {},
   "outputs": [],
   "source": [
    "print((loaded_arr_list[10].shape))"
   ]
  },
  {
   "cell_type": "code",
   "execution_count": null,
   "id": "8037df84-2c8f-462b-9cf4-76ddf5373028",
   "metadata": {},
   "outputs": [],
   "source": [
    "# Load the list of arrays\n",
    "loaded_arr_list = np.load('dd10000.npy', allow_pickle=True)\n",
    "\n",
    "# Print the loaded list of arrays\n",
    "print(len(loaded_arr_list))\n",
    "\n",
    "print((loaded_arr_list[10].shape))"
   ]
  },
  {
   "cell_type": "code",
   "execution_count": null,
   "id": "123a9c29-b947-4b8e-aac8-b5faf856d700",
   "metadata": {},
   "outputs": [],
   "source": [
    "loaded_arr_list[10:20][-6:]"
   ]
  },
  {
   "cell_type": "code",
   "execution_count": null,
   "id": "b70f939d-854e-4488-abe5-ff00c134f8a3",
   "metadata": {},
   "outputs": [],
   "source": [
    "proximities"
   ]
  },
  {
   "cell_type": "code",
   "execution_count": null,
   "id": "cf356966-c4f2-4e38-be1d-d6694f203037",
   "metadata": {},
   "outputs": [],
   "source": []
  }
 ],
 "metadata": {
  "kernelspec": {
   "display_name": "Python 3 (ipykernel)",
   "language": "python",
   "name": "python3"
  },
  "language_info": {
   "codemirror_mode": {
    "name": "ipython",
    "version": 3
   },
   "file_extension": ".py",
   "mimetype": "text/x-python",
   "name": "python",
   "nbconvert_exporter": "python",
   "pygments_lexer": "ipython3",
   "version": "3.9.13"
  }
 },
 "nbformat": 4,
 "nbformat_minor": 5
}
