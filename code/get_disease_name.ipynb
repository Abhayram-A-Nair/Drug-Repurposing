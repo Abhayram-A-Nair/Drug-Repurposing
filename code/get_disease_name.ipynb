{
 "cells": [
  {
   "cell_type": "markdown",
   "id": "2847d2be-6e57-459a-b4ee-2d14078f4b11",
   "metadata": {},
   "source": [
    "## Code to get disease names from UMLS"
   ]
  },
  {
   "cell_type": "code",
   "execution_count": 1,
   "id": "a438030d-13d9-44c4-b058-a73a1b9cae47",
   "metadata": {},
   "outputs": [],
   "source": [
    "import requests\n",
    "import xml.etree.ElementTree as ET\n",
    "from xml.etree import ElementTree\n",
    "from tqdm import tqdm\n",
    "ticket = 'd57d8be8-295c-4428-9b47-8882eaf9ed75'"
   ]
  },
  {
   "cell_type": "code",
   "execution_count": 2,
   "id": "6512b6d0-da8c-46d5-a16b-7defb29805d1",
   "metadata": {},
   "outputs": [],
   "source": [
    "import pandas as pd"
   ]
  },
  {
   "cell_type": "code",
   "execution_count": 3,
   "id": "fd146786-23b0-4673-9f7f-0922da3facda",
   "metadata": {},
   "outputs": [],
   "source": [
    "diseases = pd.read_csv('../data/SND/disease_snf14.csv', index_col=0)"
   ]
  },
  {
   "cell_type": "code",
   "execution_count": 4,
   "id": "7ca46625-43eb-468d-b60f-407e63472cac",
   "metadata": {},
   "outputs": [],
   "source": [
    "disease_names = list(diseases.index)"
   ]
  },
  {
   "cell_type": "code",
   "execution_count": 5,
   "id": "1b4296b2-9c84-4fcc-b6af-cd34b16b5d8d",
   "metadata": {},
   "outputs": [],
   "source": [
    "def get_mesh_id(concept_id, ticket):\n",
    "    try:\n",
    "        apikey = ticket\n",
    "        version = 'current'\n",
    "        string = concept_id\n",
    "        uri = \"https://uts-ws.nlm.nih.gov\"\n",
    "        content_endpoint = \"/rest/content/\"+version+\"/CUI/\"+concept_id + \"/atoms\"\n",
    "        full_url = uri+content_endpoint\n",
    "\n",
    "        query = {'string':string,'apiKey':apikey}\n",
    "\n",
    "        r = requests.get(full_url,params=query)\n",
    "        # r.raise_for_status()\n",
    "        r.encoding = 'utf-8'\n",
    "        outputs  = r.json()\n",
    "        try:\n",
    "            # print(\"here\")\n",
    "            items = (([outputs['result']])[0])\n",
    "            # print(items)\n",
    "            # print(\"out\")\n",
    "            return items\n",
    "        except:\n",
    "            # print(outputs)\n",
    "            return 'NONE' \n",
    "    except:\n",
    "        return 'NONE'"
   ]
  },
  {
   "cell_type": "code",
   "execution_count": null,
   "id": "cea743ab-d1d3-42a4-ab2a-75e52d3b358f",
   "metadata": {
    "tags": []
   },
   "outputs": [
    {
     "name": "stderr",
     "output_type": "stream",
     "text": [
      "  3%|█▌                                                   | 23/803 [00:35<18:34,  1.43s/it]"
     ]
    }
   ],
   "source": [
    "ids = {}\n",
    "k = 0\n",
    "for disease in tqdm(disease_names):\n",
    "    mesh_id_all = get_mesh_id(disease, ticket)\n",
    "    mesh_id = []\n",
    "    try:\n",
    "        for i in range(0,len(mesh_id_all)):\n",
    "            # print(mesh_id_all[i]['sourceDescriptor'].split('/')[-1])\n",
    "            try:\n",
    "                mesh_id.append(mesh_id_all[i]['sourceDescriptor'].split('/')[-1])\n",
    "            except:\n",
    "                mesh_id.append('NONE')\n",
    "    except:\n",
    "        mesh_id = [\"NONE\"]\n",
    "    k+=1\n",
    "    # if k == 10:\n",
    "    #     break\n",
    "    ids[disease] = mesh_id"
   ]
  },
  {
   "cell_type": "code",
   "execution_count": null,
   "id": "d6b127df-1ab9-4437-b0d2-0f02cbac6a41",
   "metadata": {},
   "outputs": [],
   "source": [
    "len(disease_names)"
   ]
  },
  {
   "cell_type": "code",
   "execution_count": null,
   "id": "5f40cb2e-097f-47da-b1d7-45f5df452283",
   "metadata": {
    "tags": []
   },
   "outputs": [],
   "source": [
    "len(ids.keys())"
   ]
  },
  {
   "cell_type": "code",
   "execution_count": null,
   "id": "614cf5e0-a72b-494b-a447-506da37a8142",
   "metadata": {
    "tags": []
   },
   "outputs": [],
   "source": [
    "ids"
   ]
  },
  {
   "cell_type": "code",
   "execution_count": null,
   "id": "e9ae025c-1659-46e7-b7b8-3e661d810b2d",
   "metadata": {},
   "outputs": [],
   "source": [
    "import json\n",
    "\n",
    "with open(\"SND_diseases.json\", \"w\") as f:\n",
    "    # Write the dictionary to the file in JSON format\n",
    "    json.dump(ids, f)"
   ]
  },
  {
   "cell_type": "code",
   "execution_count": null,
   "id": "632fd003-6af5-47e2-a15a-efbd6de4f123",
   "metadata": {},
   "outputs": [],
   "source": [
    "import json\n",
    "\n",
    "# Open the JSON file and read its contents\n",
    "with open('../../biosnap/gene_dict_disease.json', 'r') as f:\n",
    "    data = f.read()\n",
    "\n",
    "# Parse the JSON data into a Python dictionary\n",
    "json_dict = json.loads(data)"
   ]
  },
  {
   "cell_type": "code",
   "execution_count": null,
   "id": "7ad8271a-3554-4ed5-9482-a5952d8f1f9b",
   "metadata": {},
   "outputs": [],
   "source": [
    "keys = set(json_dict.keys())"
   ]
  },
  {
   "cell_type": "code",
   "execution_count": null,
   "id": "5ee9827b-743b-49ec-9fd9-442ab5b7135c",
   "metadata": {},
   "outputs": [],
   "source": [
    "count = 0 \n",
    "correct_names = {} \n",
    "for diseases in ids.keys():\n",
    "    lst = ids[diseases]\n",
    "    common = set(lst).intersection(set(keys))\n",
    "    if common != set():\n",
    "        count+=1\n",
    "        correct_names[diseases] = list(common)[0]\n",
    "print(count)"
   ]
  },
  {
   "cell_type": "code",
   "execution_count": null,
   "id": "cdfcddfb-ac50-4a57-9deb-906806fffef3",
   "metadata": {
    "tags": []
   },
   "outputs": [],
   "source": [
    "correct_names"
   ]
  },
  {
   "cell_type": "code",
   "execution_count": null,
   "id": "56fae837-e61a-4009-9ae0-048d644d9a6c",
   "metadata": {},
   "outputs": [],
   "source": [
    "import json\n",
    "\n",
    "with open(\"../data/SND/SNF_diseases_matched.json\", \"w\") as f:\n",
    "    # Write the dictionary to the file in JSON format\n",
    "    json.dump(correct_names, f)"
   ]
  },
  {
   "cell_type": "code",
   "execution_count": null,
   "id": "49b8a7f8-91ad-42cf-9d84-a7d203b6ecd0",
   "metadata": {},
   "outputs": [],
   "source": []
  }
 ],
 "metadata": {
  "kernelspec": {
   "display_name": "Python 3 (ipykernel)",
   "language": "python",
   "name": "python3"
  },
  "language_info": {
   "codemirror_mode": {
    "name": "ipython",
    "version": 3
   },
   "file_extension": ".py",
   "mimetype": "text/x-python",
   "name": "python",
   "nbconvert_exporter": "python",
   "pygments_lexer": "ipython3",
   "version": "3.9.13"
  }
 },
 "nbformat": 4,
 "nbformat_minor": 5
}
